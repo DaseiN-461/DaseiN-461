{
  "nbformat": 4,
  "nbformat_minor": 0,
  "metadata": {
    "colab": {
      "name": "otp_final.ipynb",
      "provenance": [],
      "authorship_tag": "ABX9TyMLjA6piQO5Y0f11TsemNlX",
      "include_colab_link": true
    },
    "kernelspec": {
      "name": "python3",
      "display_name": "Python 3"
    },
    "language_info": {
      "name": "python"
    }
  },
  "cells": [
    {
      "cell_type": "markdown",
      "metadata": {
        "id": "view-in-github",
        "colab_type": "text"
      },
      "source": [
        "<a href=\"https://colab.research.google.com/github/DaseiN-461/DaseiN-461/blob/main/otp_final.ipynb\" target=\"_parent\"><img src=\"https://colab.research.google.com/assets/colab-badge.svg\" alt=\"Open In Colab\"/></a>"
      ]
    },
    {
      "cell_type": "code",
      "source": [
        "otp_list = []\n",
        "code_key = '9999'"
      ],
      "metadata": {
        "id": "JG9WYHjp0ITt"
      },
      "execution_count": 3,
      "outputs": []
    },
    {
      "cell_type": "code",
      "execution_count": 11,
      "metadata": {
        "id": "elMusChEzozp"
      },
      "outputs": [],
      "source": [
        "def main():\n",
        "  while True:\n",
        "    code = str(input(\"code: \"))\n",
        "    if code in otp_list:\n",
        "      print(\"permiso aprobado\")\n",
        "      otp_list.remove(code)\n",
        "    else:\n",
        "      ##########################################################################################\n",
        "      if code == code_key:\n",
        "        admin_interface()\n",
        "\n",
        "def admin_interface():\n",
        "  print(\".....-----.....-----.....-----.....-----.....-----.....-----.....-----.....-----\")\n",
        "  print(\"Ha entrado a la interfaz de administrador\")\n",
        "  print(\"Puede realizar las siguientes tareas, typeando:\")\n",
        "  print(\"A: añadir un code\")\n",
        "  print(\"B: eliminar un code\")\n",
        "  print(\"C: para ver la lista de codes\")\n",
        "  print(\"D: para salir del interfaz\")\n",
        "  flag = True\n",
        "  while (flag == True):\n",
        "    command = str(input(\"comando: \"))\n",
        "    if command == 'A':\n",
        "      add_code()\n",
        "    if command == 'B':\n",
        "      remove_code()\n",
        "    if command == 'C':\n",
        "      see_list()\n",
        "    if command == 'D':\n",
        "      print(\".....-----.....-----.....-----.....-----.....-----.....-----.....-----.....-----\")\n",
        "      flag = False\n",
        "      return\n",
        "def put_code():\n",
        "  code = str(input(\"code: \"))\n",
        "  return code\n",
        "def add_code():\n",
        "  code = put_code()\n",
        "  if code in otp_list:\n",
        "    print(\"el code ya se encuentra en la lista\")\n",
        "  else:\n",
        "    otp_list.append(code)\n",
        "    print(otp_list)\n",
        "def see_list():\n",
        "  print(otp_list)\n",
        "def remove_code():\n",
        "  print(\"la lista de códigos son...\")\n",
        "  print(otp_list)\n",
        "  print(\"ingrese el código a eliminar...\")\n",
        "\n",
        "  code = put_code()\n",
        "  if code in otp_list:\n",
        "    otp_list.remove(code)\n",
        "    print(otp_list)\n",
        "  else:\n",
        "    print(\"la contraseña no se encuentra en la lista\")\n"
      ]
    },
    {
      "cell_type": "code",
      "source": [
        "main()"
      ],
      "metadata": {
        "colab": {
          "base_uri": "https://localhost:8080/"
        },
        "id": "tLVGqN6e0FD2",
        "outputId": "400a0b84-31c6-41fb-b593-56553728eeaf"
      },
      "execution_count": null,
      "outputs": [
        {
          "name": "stdout",
          "output_type": "stream",
          "text": [
            "code: 2312\n",
            "code: 9999\n",
            ".....-----.....-----.....-----.....-----.....-----.....-----.....-----.....-----\n",
            "Ha entrado a la interfaz de administrador\n",
            "Puede realizar las siguientes tareas, typeando:\n",
            "A: añadir un code\n",
            "B: eliminar un code\n",
            "C: para ver la lista de codes\n",
            "D: para salir del interfaz\n",
            "comando: A\n",
            "code: 1234\n",
            "['1234']\n",
            "comando: A\n",
            "code: 2314\n",
            "['1234', '2314']\n",
            "comando: A\n",
            "code: 3535\n",
            "['1234', '2314', '3535']\n",
            "comando: C\n",
            "['1234', '2314', '3535']\n",
            "comando: D\n",
            ".....-----.....-----.....-----.....-----.....-----.....-----.....-----.....-----\n",
            "code: 1234\n",
            "permiso aprobado\n",
            "code: 9999\n",
            ".....-----.....-----.....-----.....-----.....-----.....-----.....-----.....-----\n",
            "Ha entrado a la interfaz de administrador\n",
            "Puede realizar las siguientes tareas, typeando:\n",
            "A: añadir un code\n",
            "B: eliminar un code\n",
            "C: para ver la lista de codes\n",
            "D: para salir del interfaz\n",
            "comando: C\n",
            "['2314', '3535']\n",
            "comando: D\n",
            ".....-----.....-----.....-----.....-----.....-----.....-----.....-----.....-----\n",
            "code: 2314\n",
            "permiso aprobado\n",
            "code: 2314\n",
            "code: 2314\n",
            "code: 2314\n",
            "code: 9999\n",
            ".....-----.....-----.....-----.....-----.....-----.....-----.....-----.....-----\n",
            "Ha entrado a la interfaz de administrador\n",
            "Puede realizar las siguientes tareas, typeando:\n",
            "A: añadir un code\n",
            "B: eliminar un code\n",
            "C: para ver la lista de codes\n",
            "D: para salir del interfaz\n",
            "comando: c\n",
            "comando: C\n",
            "['3535']\n",
            "comando: D\n",
            ".....-----.....-----.....-----.....-----.....-----.....-----.....-----.....-----\n",
            "code: 3535\n",
            "permiso aprobado\n",
            "code: 2134\n"
          ]
        }
      ]
    }
  ]
}