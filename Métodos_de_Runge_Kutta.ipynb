{
  "nbformat": 4,
  "nbformat_minor": 0,
  "metadata": {
    "colab": {
      "name": "Métodos de Runge Kutta",
      "provenance": [],
      "collapsed_sections": [],
      "authorship_tag": "ABX9TyM6/s5pnxxdfHTlRkxSJQ53",
      "include_colab_link": true
    },
    "kernelspec": {
      "name": "python3",
      "display_name": "Python 3"
    },
    "language_info": {
      "name": "python"
    }
  },
  "cells": [
    {
      "cell_type": "markdown",
      "metadata": {
        "id": "view-in-github",
        "colab_type": "text"
      },
      "source": [
        "<a href=\"https://colab.research.google.com/github/DaseiN-461/DaseiN-461/blob/main/M%C3%A9todos_de_Runge_Kutta.ipynb\" target=\"_parent\"><img src=\"https://colab.research.google.com/assets/colab-badge.svg\" alt=\"Open In Colab\"/></a>"
      ]
    },
    {
      "cell_type": "markdown",
      "source": [
        "# Método de Euler"
      ],
      "metadata": {
        "id": "AL1m51sZztaj"
      }
    },
    {
      "cell_type": "code",
      "execution_count": 23,
      "metadata": {
        "id": "vnzyenC_o-T5"
      },
      "outputs": [],
      "source": [
        "def euler(f,x0,y0,paso,xf):\n",
        "    y = [y0]\n",
        "    x = [x0]\n",
        "    h = paso\n",
        "    n = int((xf-x0)/h)\n",
        "    for i in range(1,n+1):\n",
        "        yi = y[(i-1)] + h*f(x[(i-1)],y[(i-1)])\n",
        "        xi = x[(i-1)] + h\n",
        "        x.append(xi)\n",
        "        y.append(yi)\n",
        "    return x,y"
      ]
    },
    {
      "cell_type": "code",
      "source": [
        "func = lambda x,y: 2*x*y\n",
        "x,ye = euler(func, 1, 1, 0.1, 1.5)\n",
        "print(x,ye)"
      ],
      "metadata": {
        "colab": {
          "base_uri": "https://localhost:8080/"
        },
        "id": "3HjsN-R8yPyE",
        "outputId": "834067c4-d1b0-40ff-98ed-150f69305666"
      },
      "execution_count": 28,
      "outputs": [
        {
          "output_type": "stream",
          "name": "stdout",
          "text": [
            "[1, 1.1, 1.2000000000000002, 1.3000000000000003, 1.4000000000000004, 1.5000000000000004] [1, 1.2, 1.464, 1.81536, 2.2873536000000003, 2.927812608000001]\n"
          ]
        }
      ]
    },
    {
      "cell_type": "markdown",
      "source": [
        "# Método de Euler mejorado"
      ],
      "metadata": {
        "id": "fBFO88Hqz4Dj"
      }
    },
    {
      "cell_type": "code",
      "source": [
        "def euler_mejorado(f,x0,y0,paso,xf):\n",
        "    y = [y0]\n",
        "    x = [x0]\n",
        "    h = paso\n",
        "    n = int((xf-x0)/h)\n",
        "    for i in range(1,n+1):\n",
        "        xi = x[i-1]\n",
        "        yi = y[i-1]\n",
        "        yim = yi + h*f(xi,yi)\n",
        "        yi = yi + (h/2)*(f(xi+h,yim)+ f(xi,yi))\n",
        "        x.append(xi+h)\n",
        "        y.append(yi)\n",
        "    return x,y\n",
        "      "
      ],
      "metadata": {
        "id": "dwd2lnXmyaIz"
      },
      "execution_count": 26,
      "outputs": []
    },
    {
      "cell_type": "code",
      "source": [
        "func = lambda x,y: 2*x*y\n",
        "x,ye = euler_mejorado(func,1,1,0.1,1.5)\n",
        "print(x,ye)"
      ],
      "metadata": {
        "colab": {
          "base_uri": "https://localhost:8080/"
        },
        "id": "wAl9VcXv0uWE",
        "outputId": "77aad8bc-aaaa-4f02-ee81-245765c1374b"
      },
      "execution_count": 27,
      "outputs": [
        {
          "output_type": "stream",
          "name": "stdout",
          "text": [
            "[1, 1.1, 1.2000000000000002, 1.3000000000000003, 1.4000000000000004, 1.5000000000000004] [1, 1.232, 1.5478848, 1.9831500057600002, 2.5907871675248644, 3.4509285071431197]\n"
          ]
        }
      ]
    },
    {
      "cell_type": "markdown",
      "source": [
        "# Runge Kutta de cuarto orden"
      ],
      "metadata": {
        "id": "LVkc42UK1CAL"
      }
    },
    {
      "cell_type": "code",
      "source": [
        "def Runge_Kutta(f,x0,y0,paso,xf):\n",
        "    y = [y0]\n",
        "    x = [x0]\n",
        "    h = paso\n",
        "    n = int((xf-x0)/h)\n",
        "    for i in range(1,n+1):\n",
        "        xi = x[i-1]\n",
        "        yi = y[i-1]\n",
        "        k1 = f(xi,yi)\n",
        "        k2 = f(xi+h/2,yi+1/2*h*k1)\n",
        "        k3 = f(xi+h/2,yi+1/2*h*k2)\n",
        "        k4 = f(xi+h,yi+h*k3)\n",
        "        x.append(xi+h)\n",
        "        y.append(yi+1/6*h*(k1+2*k2+2*k3+k4))\n",
        "    return x,y"
      ],
      "metadata": {
        "id": "nK6H8I4I1FbD"
      },
      "execution_count": 29,
      "outputs": []
    },
    {
      "cell_type": "code",
      "source": [
        "func = lambda x,y: 2*x*y\n",
        "x,ye = Runge_Kutta(func,1,1,0.1,1.5)\n",
        "print(x,ye)"
      ],
      "metadata": {
        "colab": {
          "base_uri": "https://localhost:8080/"
        },
        "id": "_5JIrV0y2HKb",
        "outputId": "5feb3700-21d3-4aad-8e1b-3ff83bcdba4d"
      },
      "execution_count": 30,
      "outputs": [
        {
          "output_type": "stream",
          "name": "stdout",
          "text": [
            "[1, 1.1, 1.2000000000000002, 1.3000000000000003, 1.4000000000000004, 1.5000000000000004] [1, 1.23367435, 1.5526953980477614, 1.9936867693499598, 2.611633233219414, 3.49021063637295]\n"
          ]
        }
      ]
    },
    {
      "cell_type": "markdown",
      "source": [
        "# Tres Métodos Juntos"
      ],
      "metadata": {
        "id": "gWBbMRNf5WNL"
      }
    },
    {
      "cell_type": "code",
      "source": [
        "fe = input(\"ingrese la función: \")  #entrada de la funcion\n",
        "x0 = float(input(\"ingrese x0: \"))\n",
        "y0 = float(input(\"ingrese y0: \"))\n",
        "xf = float(input(\"ingrese xf: \"))\n",
        "h = float(input(\"ingrese el tamaño del paso: \"))\n",
        "from pylab import * \n",
        "func = lambda x,y: eval(fe)     #para evaluar funciones sencillas desde la entrada\n",
        "\n",
        "x,yr = Runge_Kutta(func,x0,y0,h,xf)\n",
        "x,yem = euler_mejorado(func,x0,y0,h,xf)\n",
        "x,ye = euler(func,x0,y0,h,xf)\n",
        "\n",
        "plot(x,ye, label = \"Euler\")\n",
        "plot(x,yem, label = \"Euler mejorado\")\n",
        "plot(x,yr,\"rs-\", label=\"RK-4\")\n",
        "\n",
        "legend(loc = 4)\n",
        "grid()\n",
        "title(\"curvas de solución aproximada\")\n",
        "\n",
        "import pandas as pd\n",
        "df = pd.DataFrame(zip(x,ye,yem,yr), columns = [\"x\",\"Euler\",\"Euler-M\",\"RK-4\"])\n",
        "df"
      ],
      "metadata": {
        "colab": {
          "base_uri": "https://localhost:8080/",
          "height": 775
        },
        "id": "ku4rRKhC5Zbb",
        "outputId": "781a73d0-4d4a-46fc-c285-a78c6817a125"
      },
      "execution_count": 47,
      "outputs": [
        {
          "name": "stdout",
          "output_type": "stream",
          "text": [
            "ingrese la función: 1\n",
            "ingrese x0: 0\n",
            "ingrese y0: 0\n",
            "ingrese xf: 1\n",
            "ingrese el tamaño del paso: 0.01\n"
          ]
        },
        {
          "output_type": "execute_result",
          "data": {
            "text/html": [
              "\n",
              "  <div id=\"df-d325a5a5-ffab-4414-9594-7d9737058de4\">\n",
              "    <div class=\"colab-df-container\">\n",
              "      <div>\n",
              "<style scoped>\n",
              "    .dataframe tbody tr th:only-of-type {\n",
              "        vertical-align: middle;\n",
              "    }\n",
              "\n",
              "    .dataframe tbody tr th {\n",
              "        vertical-align: top;\n",
              "    }\n",
              "\n",
              "    .dataframe thead th {\n",
              "        text-align: right;\n",
              "    }\n",
              "</style>\n",
              "<table border=\"1\" class=\"dataframe\">\n",
              "  <thead>\n",
              "    <tr style=\"text-align: right;\">\n",
              "      <th></th>\n",
              "      <th>x</th>\n",
              "      <th>Euler</th>\n",
              "      <th>Euler-M</th>\n",
              "      <th>RK-4</th>\n",
              "    </tr>\n",
              "  </thead>\n",
              "  <tbody>\n",
              "    <tr>\n",
              "      <th>0</th>\n",
              "      <td>0.00</td>\n",
              "      <td>0.00</td>\n",
              "      <td>0.00</td>\n",
              "      <td>0.00</td>\n",
              "    </tr>\n",
              "    <tr>\n",
              "      <th>1</th>\n",
              "      <td>0.01</td>\n",
              "      <td>0.01</td>\n",
              "      <td>0.01</td>\n",
              "      <td>0.01</td>\n",
              "    </tr>\n",
              "    <tr>\n",
              "      <th>2</th>\n",
              "      <td>0.02</td>\n",
              "      <td>0.02</td>\n",
              "      <td>0.02</td>\n",
              "      <td>0.02</td>\n",
              "    </tr>\n",
              "    <tr>\n",
              "      <th>3</th>\n",
              "      <td>0.03</td>\n",
              "      <td>0.03</td>\n",
              "      <td>0.03</td>\n",
              "      <td>0.03</td>\n",
              "    </tr>\n",
              "    <tr>\n",
              "      <th>4</th>\n",
              "      <td>0.04</td>\n",
              "      <td>0.04</td>\n",
              "      <td>0.04</td>\n",
              "      <td>0.04</td>\n",
              "    </tr>\n",
              "    <tr>\n",
              "      <th>...</th>\n",
              "      <td>...</td>\n",
              "      <td>...</td>\n",
              "      <td>...</td>\n",
              "      <td>...</td>\n",
              "    </tr>\n",
              "    <tr>\n",
              "      <th>96</th>\n",
              "      <td>0.96</td>\n",
              "      <td>0.96</td>\n",
              "      <td>0.96</td>\n",
              "      <td>0.96</td>\n",
              "    </tr>\n",
              "    <tr>\n",
              "      <th>97</th>\n",
              "      <td>0.97</td>\n",
              "      <td>0.97</td>\n",
              "      <td>0.97</td>\n",
              "      <td>0.97</td>\n",
              "    </tr>\n",
              "    <tr>\n",
              "      <th>98</th>\n",
              "      <td>0.98</td>\n",
              "      <td>0.98</td>\n",
              "      <td>0.98</td>\n",
              "      <td>0.98</td>\n",
              "    </tr>\n",
              "    <tr>\n",
              "      <th>99</th>\n",
              "      <td>0.99</td>\n",
              "      <td>0.99</td>\n",
              "      <td>0.99</td>\n",
              "      <td>0.99</td>\n",
              "    </tr>\n",
              "    <tr>\n",
              "      <th>100</th>\n",
              "      <td>1.00</td>\n",
              "      <td>1.00</td>\n",
              "      <td>1.00</td>\n",
              "      <td>1.00</td>\n",
              "    </tr>\n",
              "  </tbody>\n",
              "</table>\n",
              "<p>101 rows × 4 columns</p>\n",
              "</div>\n",
              "      <button class=\"colab-df-convert\" onclick=\"convertToInteractive('df-d325a5a5-ffab-4414-9594-7d9737058de4')\"\n",
              "              title=\"Convert this dataframe to an interactive table.\"\n",
              "              style=\"display:none;\">\n",
              "        \n",
              "  <svg xmlns=\"http://www.w3.org/2000/svg\" height=\"24px\"viewBox=\"0 0 24 24\"\n",
              "       width=\"24px\">\n",
              "    <path d=\"M0 0h24v24H0V0z\" fill=\"none\"/>\n",
              "    <path d=\"M18.56 5.44l.94 2.06.94-2.06 2.06-.94-2.06-.94-.94-2.06-.94 2.06-2.06.94zm-11 1L8.5 8.5l.94-2.06 2.06-.94-2.06-.94L8.5 2.5l-.94 2.06-2.06.94zm10 10l.94 2.06.94-2.06 2.06-.94-2.06-.94-.94-2.06-.94 2.06-2.06.94z\"/><path d=\"M17.41 7.96l-1.37-1.37c-.4-.4-.92-.59-1.43-.59-.52 0-1.04.2-1.43.59L10.3 9.45l-7.72 7.72c-.78.78-.78 2.05 0 2.83L4 21.41c.39.39.9.59 1.41.59.51 0 1.02-.2 1.41-.59l7.78-7.78 2.81-2.81c.8-.78.8-2.07 0-2.86zM5.41 20L4 18.59l7.72-7.72 1.47 1.35L5.41 20z\"/>\n",
              "  </svg>\n",
              "      </button>\n",
              "      \n",
              "  <style>\n",
              "    .colab-df-container {\n",
              "      display:flex;\n",
              "      flex-wrap:wrap;\n",
              "      gap: 12px;\n",
              "    }\n",
              "\n",
              "    .colab-df-convert {\n",
              "      background-color: #E8F0FE;\n",
              "      border: none;\n",
              "      border-radius: 50%;\n",
              "      cursor: pointer;\n",
              "      display: none;\n",
              "      fill: #1967D2;\n",
              "      height: 32px;\n",
              "      padding: 0 0 0 0;\n",
              "      width: 32px;\n",
              "    }\n",
              "\n",
              "    .colab-df-convert:hover {\n",
              "      background-color: #E2EBFA;\n",
              "      box-shadow: 0px 1px 2px rgba(60, 64, 67, 0.3), 0px 1px 3px 1px rgba(60, 64, 67, 0.15);\n",
              "      fill: #174EA6;\n",
              "    }\n",
              "\n",
              "    [theme=dark] .colab-df-convert {\n",
              "      background-color: #3B4455;\n",
              "      fill: #D2E3FC;\n",
              "    }\n",
              "\n",
              "    [theme=dark] .colab-df-convert:hover {\n",
              "      background-color: #434B5C;\n",
              "      box-shadow: 0px 1px 3px 1px rgba(0, 0, 0, 0.15);\n",
              "      filter: drop-shadow(0px 1px 2px rgba(0, 0, 0, 0.3));\n",
              "      fill: #FFFFFF;\n",
              "    }\n",
              "  </style>\n",
              "\n",
              "      <script>\n",
              "        const buttonEl =\n",
              "          document.querySelector('#df-d325a5a5-ffab-4414-9594-7d9737058de4 button.colab-df-convert');\n",
              "        buttonEl.style.display =\n",
              "          google.colab.kernel.accessAllowed ? 'block' : 'none';\n",
              "\n",
              "        async function convertToInteractive(key) {\n",
              "          const element = document.querySelector('#df-d325a5a5-ffab-4414-9594-7d9737058de4');\n",
              "          const dataTable =\n",
              "            await google.colab.kernel.invokeFunction('convertToInteractive',\n",
              "                                                     [key], {});\n",
              "          if (!dataTable) return;\n",
              "\n",
              "          const docLinkHtml = 'Like what you see? Visit the ' +\n",
              "            '<a target=\"_blank\" href=https://colab.research.google.com/notebooks/data_table.ipynb>data table notebook</a>'\n",
              "            + ' to learn more about interactive tables.';\n",
              "          element.innerHTML = '';\n",
              "          dataTable['output_type'] = 'display_data';\n",
              "          await google.colab.output.renderOutput(dataTable, element);\n",
              "          const docLink = document.createElement('div');\n",
              "          docLink.innerHTML = docLinkHtml;\n",
              "          element.appendChild(docLink);\n",
              "        }\n",
              "      </script>\n",
              "    </div>\n",
              "  </div>\n",
              "  "
            ],
            "text/plain": [
              "        x  Euler  Euler-M  RK-4\n",
              "0    0.00   0.00     0.00  0.00\n",
              "1    0.01   0.01     0.01  0.01\n",
              "2    0.02   0.02     0.02  0.02\n",
              "3    0.03   0.03     0.03  0.03\n",
              "4    0.04   0.04     0.04  0.04\n",
              "..    ...    ...      ...   ...\n",
              "96   0.96   0.96     0.96  0.96\n",
              "97   0.97   0.97     0.97  0.97\n",
              "98   0.98   0.98     0.98  0.98\n",
              "99   0.99   0.99     0.99  0.99\n",
              "100  1.00   1.00     1.00  1.00\n",
              "\n",
              "[101 rows x 4 columns]"
            ]
          },
          "metadata": {},
          "execution_count": 47
        },
        {
          "output_type": "display_data",
          "data": {
            "image/png": "[encoded data removed]",
            "text/plain": [
              "<Figure size 432x288 with 1 Axes>"
            ]
          },
          "metadata": {
            "needs_background": "light"
          }
        }
      ]
    }
  ]
}