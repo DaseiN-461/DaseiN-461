{
  "nbformat": 4,
  "nbformat_minor": 0,
  "metadata": {
    "colab": {
      "name": "Métodos de Runge Kutta",
      "provenance": [],
      "authorship_tag": "ABX9TyOYMcSODVFDAOV7anEW8hH9",
      "include_colab_link": true
    },
    "kernelspec": {
      "name": "python3",
      "display_name": "Python 3"
    },
    "language_info": {
      "name": "python"
    }
  },
  "cells": [
    {
      "cell_type": "markdown",
      "metadata": {
        "id": "view-in-github",
        "colab_type": "text"
      },
      "source": [
        "<a href=\"https://colab.research.google.com/github/DaseiN-461/DaseiN-461/blob/main/M%C3%A9todos_de_Runge_Kutta.ipynb\" target=\"_parent\"><img src=\"https://colab.research.google.com/assets/colab-badge.svg\" alt=\"Open In Colab\"/></a>"
      ]
    },
    {
      "cell_type": "markdown",
      "source": [
        "# Método de Euler"
      ],
      "metadata": {
        "id": "AL1m51sZztaj"
      }
    },
    {
      "cell_type": "code",
      "execution_count": 23,
      "metadata": {
        "id": "vnzyenC_o-T5"
      },
      "outputs": [],
      "source": [
        "def euler(f,x0,y0,paso,xf):\n",
        "    y = [y0]\n",
        "    x = [x0]\n",
        "    h = paso\n",
        "    n = int((xf-x0)/h)\n",
        "    for i in range(1,n+1):\n",
        "        yi = y[(i-1)] + h*f(x[(i-1)],y[(i-1)])\n",
        "        xi = x[(i-1)] + h\n",
        "        x.append(xi)\n",
        "        y.append(yi)\n",
        "    return x,y"
      ]
    },
    {
      "cell_type": "code",
      "source": [
        "func = lambda x,y: 2*x*y\n",
        "x,ye = euler(func, 1, 1, 0.1, 1.5)\n",
        "print(x,ye)"
      ],
      "metadata": {
        "colab": {
          "base_uri": "https://localhost:8080/"
        },
        "id": "3HjsN-R8yPyE",
        "outputId": "834067c4-d1b0-40ff-98ed-150f69305666"
      },
      "execution_count": 28,
      "outputs": [
        {
          "output_type": "stream",
          "name": "stdout",
          "text": [
            "[1, 1.1, 1.2000000000000002, 1.3000000000000003, 1.4000000000000004, 1.5000000000000004] [1, 1.2, 1.464, 1.81536, 2.2873536000000003, 2.927812608000001]\n"
          ]
        }
      ]
    },
    {
      "cell_type": "markdown",
      "source": [
        "# Método de Euler mejorado"
      ],
      "metadata": {
        "id": "fBFO88Hqz4Dj"
      }
    },
    {
      "cell_type": "code",
      "source": [
        "def euler_mejorado(f,x0,y0,paso,xf):\n",
        "    y = [y0]\n",
        "    x = [x0]\n",
        "    h = paso\n",
        "    n = int((xf-x0)/h)\n",
        "    for i in range(1,n+1):\n",
        "        xi = x[i-1]\n",
        "        yi = y[i-1]\n",
        "        yim = yi + h*f(xi,yi)\n",
        "        yi = yi + (h/2)*(f(xi+h,yim)+ f(xi,yi))\n",
        "        x.append(xi+h)\n",
        "        y.append(yi)\n",
        "    return x,y\n",
        "      "
      ],
      "metadata": {
        "id": "dwd2lnXmyaIz"
      },
      "execution_count": 26,
      "outputs": []
    },
    {
      "cell_type": "code",
      "source": [
        "func = lambda x,y: 2*x*y\n",
        "x,ye = euler_mejorado(func,1,1,0.1,1.5)\n",
        "print(x,ye)"
      ],
      "metadata": {
        "colab": {
          "base_uri": "https://localhost:8080/"
        },
        "id": "wAl9VcXv0uWE",
        "outputId": "77aad8bc-aaaa-4f02-ee81-245765c1374b"
      },
      "execution_count": 27,
      "outputs": [
        {
          "output_type": "stream",
          "name": "stdout",
          "text": [
            "[1, 1.1, 1.2000000000000002, 1.3000000000000003, 1.4000000000000004, 1.5000000000000004] [1, 1.232, 1.5478848, 1.9831500057600002, 2.5907871675248644, 3.4509285071431197]\n"
          ]
        }
      ]
    },
    {
      "cell_type": "markdown",
      "source": [
        "# Runge Kutta de cuarto orden"
      ],
      "metadata": {
        "id": "LVkc42UK1CAL"
      }
    },
    {
      "cell_type": "code",
      "source": [
        "def Runge_Kutta(f,x0,y0,paso,xf):\n",
        "    y = [y0]\n",
        "    x = [x0]\n",
        "    h = paso\n",
        "    n = int((xf-x0)/h)\n",
        "    for i in range(1,n+1):\n",
        "        xi = x[i-1]\n",
        "        yi = y[i-1]\n",
        "        k1 = f(xi,yi)\n",
        "        k2 = f(xi+h/2,yi+1/2*h*k1)\n",
        "        k3 = f(xi+h/2,yi+1/2*h*k2)\n",
        "        k4 = f(xi+h,yi+h*k3)\n",
        "        x.append(xi+h)\n",
        "        y.append(yi+1/6*h*(k1+2*k2+2*k3+k4))\n",
        "    return x,y"
      ],
      "metadata": {
        "id": "nK6H8I4I1FbD"
      },
      "execution_count": 29,
      "outputs": []
    },
    {
      "cell_type": "code",
      "source": [
        "func = lambda x,y: 2*x*y\n",
        "x,ye = Runge_Kutta(func,1,1,0.1,1.5)\n",
        "print(x,ye)"
      ],
      "metadata": {
        "colab": {
          "base_uri": "https://localhost:8080/"
        },
        "id": "_5JIrV0y2HKb",
        "outputId": "5feb3700-21d3-4aad-8e1b-3ff83bcdba4d"
      },
      "execution_count": 30,
      "outputs": [
        {
          "output_type": "stream",
          "name": "stdout",
          "text": [
            "[1, 1.1, 1.2000000000000002, 1.3000000000000003, 1.4000000000000004, 1.5000000000000004] [1, 1.23367435, 1.5526953980477614, 1.9936867693499598, 2.611633233219414, 3.49021063637295]\n"
          ]
        }
      ]
    }
  ]
}