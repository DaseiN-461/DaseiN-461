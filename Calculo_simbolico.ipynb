{
  "nbformat": 4,
  "nbformat_minor": 0,
  "metadata": {
    "colab": {
      "name": "Calculo simbolico.ipynb",
      "provenance": [],
      "authorship_tag": "ABX9TyOJf0bbxLOHa7d3AimPfjHl",
      "include_colab_link": true
    },
    "kernelspec": {
      "name": "python3",
      "display_name": "Python 3"
    },
    "language_info": {
      "name": "python"
    }
  },
  "cells": [
    {
      "cell_type": "markdown",
      "metadata": {
        "id": "view-in-github",
        "colab_type": "text"
      },
      "source": [
        "<a href=\"https://colab.research.google.com/github/DaseiN-461/DaseiN-461/blob/main/Calculo_simbolico.ipynb\" target=\"_parent\"><img src=\"https://colab.research.google.com/assets/colab-badge.svg\" alt=\"Open In Colab\"/></a>"
      ]
    },
    {
      "cell_type": "code",
      "metadata": {
        "id": "ECw-FybTqNxd"
      },
      "source": [
        "from sympy import *"
      ],
      "execution_count": 1,
      "outputs": []
    },
    {
      "cell_type": "code",
      "metadata": {
        "colab": {
          "base_uri": "https://localhost:8080/",
          "height": 37
        },
        "id": "lRoVLkKrqmes",
        "outputId": "a91701d2-f73c-4889-e24d-aba1545acfe6"
      },
      "source": [
        "x = symbols('x')\n",
        "\n",
        "a = (x + 1)**2\n",
        "b = x**2 + 2*x + 1\n",
        "\n",
        "simplify(a-b)"
      ],
      "execution_count": 7,
      "outputs": [
        {
          "output_type": "execute_result",
          "data": {
            "text/latex": "$\\displaystyle 0$",
            "text/plain": [
              "0"
            ]
          },
          "metadata": {},
          "execution_count": 7
        }
      ]
    },
    {
      "cell_type": "code",
      "metadata": {
        "colab": {
          "base_uri": "https://localhost:8080/"
        },
        "id": "TMgh-rZ3rsas",
        "outputId": "14ced288-b4f6-4496-90b9-248e212c7dd0"
      },
      "source": [
        "x = symbols('x')\n",
        "\n",
        "a = (x + 1)**2\n",
        "b = x**2 + 2*x + 1\n",
        "\n",
        "a.equals(b)"
      ],
      "execution_count": 8,
      "outputs": [
        {
          "output_type": "execute_result",
          "data": {
            "text/plain": [
              "True"
            ]
          },
          "metadata": {},
          "execution_count": 8
        }
      ]
    },
    {
      "cell_type": "code",
      "metadata": {
        "colab": {
          "base_uri": "https://localhost:8080/",
          "height": 56
        },
        "id": "xUhe6FTysEvL",
        "outputId": "d498b58b-fe0e-4bd3-9b7e-58448fdb3643"
      },
      "source": [
        "R1, R2, C , s = symbols('R1 R2 C s')\n",
        "\n",
        "num = (R2/((R2*C*s)+1))\n",
        "den = R1 + (R2/((R2*C*s)+1))\n",
        "\n",
        "H = num/den\n",
        "\n",
        "simplify(H)"
      ],
      "execution_count": 11,
      "outputs": [
        {
          "output_type": "execute_result",
          "data": {
            "text/latex": "$\\displaystyle \\frac{R_{2}}{R_{1} \\left(C R_{2} s + 1\\right) + R_{2}}$",
            "text/plain": [
              "R2/(R1*(C*R2*s + 1) + R2)"
            ]
          },
          "metadata": {},
          "execution_count": 11
        }
      ]
    },
    {
      "cell_type": "code",
      "metadata": {
        "colab": {
          "base_uri": "https://localhost:8080/",
          "height": 54
        },
        "id": "59edCb66tzK1",
        "outputId": "205e8c52-933c-4c50-fa5b-5fee94266687"
      },
      "source": [
        "factor(H)"
      ],
      "execution_count": 12,
      "outputs": [
        {
          "output_type": "execute_result",
          "data": {
            "text/latex": "$\\displaystyle \\frac{R_{2}}{C R_{1} R_{2} s + R_{1} + R_{2}}$",
            "text/plain": [
              "R2/(C*R1*R2*s + R1 + R2)"
            ]
          },
          "metadata": {},
          "execution_count": 12
        }
      ]
    },
    {
      "cell_type": "code",
      "metadata": {
        "colab": {
          "base_uri": "https://localhost:8080/",
          "height": 55
        },
        "id": "uzVzGBZMucHz",
        "outputId": "f4160394-4f9d-4eee-f5fa-3b892646869b"
      },
      "source": [
        "from __future__ import division\n",
        "from sympy import *\n",
        "x, y, z, t = symbols('x y z t')\n",
        "k, m, n = symbols('k m n', integer = True)\n",
        "f, g, h = symbols('f g h', cls = Function)\n",
        "\n",
        "expr = (4*x**3 + 21*x**2 + 10*x + 12)/(x**4 + 5*x**3 + 5*x**2 + 4*x)\n",
        "expr"
      ],
      "execution_count": 17,
      "outputs": [
        {
          "output_type": "execute_result",
          "data": {
            "text/latex": "$\\displaystyle \\frac{4 x^{3} + 21 x^{2} + 10 x + 12}{x^{4} + 5 x^{3} + 5 x^{2} + 4 x}$",
            "text/plain": [
              "(4*x**3 + 21*x**2 + 10*x + 12)/(x**4 + 5*x**3 + 5*x**2 + 4*x)"
            ]
          },
          "metadata": {},
          "execution_count": 17
        }
      ]
    },
    {
      "cell_type": "code",
      "metadata": {
        "colab": {
          "base_uri": "https://localhost:8080/",
          "height": 52
        },
        "id": "mTwnRGzHvTcE",
        "outputId": "4b3717d7-7812-46a0-b03e-15ab440de639"
      },
      "source": [
        "apart(expr)"
      ],
      "execution_count": 18,
      "outputs": [
        {
          "output_type": "execute_result",
          "data": {
            "text/latex": "$\\displaystyle \\frac{2 x - 1}{x^{2} + x + 1} - \\frac{1}{x + 4} + \\frac{3}{x}$",
            "text/plain": [
              "(2*x - 1)/(x**2 + x + 1) - 1/(x + 4) + 3/x"
            ]
          },
          "metadata": {},
          "execution_count": 18
        }
      ]
    }
  ]
}