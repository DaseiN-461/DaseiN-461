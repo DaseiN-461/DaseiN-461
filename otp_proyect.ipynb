{
  "nbformat": 4,
  "nbformat_minor": 0,
  "metadata": {
    "colab": {
      "name": "otp_proyect.ipynb",
      "provenance": [],
      "authorship_tag": "ABX9TyNbJmZ9tDYGJUIG/SYqyg7U",
      "include_colab_link": true
    },
    "kernelspec": {
      "name": "python3",
      "display_name": "Python 3"
    },
    "language_info": {
      "name": "python"
    }
  },
  "cells": [
    {
      "cell_type": "markdown",
      "metadata": {
        "id": "view-in-github",
        "colab_type": "text"
      },
      "source": [
        "<a href=\"https://colab.research.google.com/github/DaseiN-461/DaseiN-461/blob/main/otp_proyect.ipynb\" target=\"_parent\"><img src=\"https://colab.research.google.com/assets/colab-badge.svg\" alt=\"Open In Colab\"/></a>"
      ]
    },
    {
      "cell_type": "code",
      "execution_count": 93,
      "metadata": {
        "id": "oPhvmVuAKALb"
      },
      "outputs": [],
      "source": [
        "otp_list = []\n",
        "code_key = '9999'"
      ]
    },
    {
      "cell_type": "code",
      "source": [
        "print(otp_list)"
      ],
      "metadata": {
        "colab": {
          "base_uri": "https://localhost:8080/"
        },
        "id": "sgy88IjBKGli",
        "outputId": "b3ffbaf3-a0e8-4e45-ce5f-173911b57b8d"
      },
      "execution_count": 94,
      "outputs": [
        {
          "output_type": "stream",
          "name": "stdout",
          "text": [
            "[]\n"
          ]
        }
      ]
    },
    {
      "cell_type": "code",
      "source": [
        "remove_code()"
      ],
      "metadata": {
        "colab": {
          "base_uri": "https://localhost:8080/"
        },
        "id": "NobhPEvzVoaf",
        "outputId": "c2f96cbf-02ca-4511-f128-33d166a1ad0d"
      },
      "execution_count": 66,
      "outputs": [
        {
          "output_type": "stream",
          "name": "stdout",
          "text": [
            "la lista de códigos son...\n",
            "['2415', '0956']\n",
            "ingrese el código a eliminar...\n",
            "code: 2415\n",
            "['0956']\n"
          ]
        }
      ]
    },
    {
      "cell_type": "code",
      "source": [
        "add_code()"
      ],
      "metadata": {
        "colab": {
          "base_uri": "https://localhost:8080/"
        },
        "id": "xJdEAHM1UlIw",
        "outputId": "8b6354c5-f9af-4d4b-d0f6-2d7d9e5c12f7"
      },
      "execution_count": 74,
      "outputs": [
        {
          "name": "stdout",
          "output_type": "stream",
          "text": [
            "pass: 2455\n"
          ]
        }
      ]
    },
    {
      "cell_type": "code",
      "source": [
        "def put_code():\n",
        "  code = str(input(\"code: \"))\n",
        "  return code"
      ],
      "metadata": {
        "id": "hbQuNhcQKkSD"
      },
      "execution_count": 69,
      "outputs": []
    },
    {
      "cell_type": "code",
      "source": [
        "def add_code():\n",
        "  code = put_pass()\n",
        "  if code in otp_list:\n",
        "    print(\"el code ya se encuentra en la lista\")\n",
        "  else:\n",
        "    otp_list.append(code)\n",
        "    print(otp_list)\n"
      ],
      "metadata": {
        "id": "FiQ9zYG6KPqJ"
      },
      "execution_count": 68,
      "outputs": []
    },
    {
      "cell_type": "code",
      "source": [
        "def see_list():\n",
        "  print(otp_list)"
      ],
      "metadata": {
        "id": "pRuPGFnmLc-a"
      },
      "execution_count": 70,
      "outputs": []
    },
    {
      "cell_type": "code",
      "source": [
        "def remove_code():\n",
        "  print(\"la lista de códigos son...\")\n",
        "  print(otp_list)\n",
        "  print(\"ingrese el código a eliminar...\")\n",
        "\n",
        "  code = put_code()\n",
        "  if code in otp_list:\n",
        "    otp_list.remove(code)\n",
        "    print(otp_list)\n",
        "  else:\n",
        "    print(\"la contraseña no se encuentra en la lista\")"
      ],
      "metadata": {
        "id": "sID_flKEMwUa"
      },
      "execution_count": 71,
      "outputs": []
    },
    {
      "cell_type": "code",
      "source": [
        "def admin_interface():\n",
        "  print(\".....-----.....-----.....-----.....-----.....-----.....-----.....-----.....-----\")\n",
        "  print(\"Ha entrado a la interfaz de administrador\")\n",
        "  print(\"Puede realizar las siguientes tareas, typeando:\")\n",
        "  print(\"A: añadir un code\")\n",
        "  print(\"B: eliminar un code\")\n",
        "  print(\"C: para ver la lista de codes\")\n",
        "  print(\"D: para salir del interfaz\")\n",
        "  print(\".....-----.....-----.....-----.....-----.....-----.....-----.....-----.....-----\")\n",
        "  flag = True\n",
        "  while (flag == True):\n",
        "    command = str(input(\"comando: \"))\n",
        "\n",
        "    if command == 'A':\n",
        "      add_code()\n",
        "    if command == 'B':\n",
        "      remove_code()\n",
        "    if command == 'C':\n",
        "      see_list()\n",
        "    if command == 'D':\n",
        "      flag = False\n",
        "  return "
      ],
      "metadata": {
        "id": "Aa9ELMDchtPb"
      },
      "execution_count": 103,
      "outputs": []
    },
    {
      "cell_type": "code",
      "source": [
        "main()"
      ],
      "metadata": {
        "colab": {
          "base_uri": "https://localhost:8080/"
        },
        "id": "3MpZ1BnMm0NC",
        "outputId": "79f98abf-eebf-40b7-b12c-91fa3070981f"
      },
      "execution_count": null,
      "outputs": [
        {
          "name": "stdout",
          "output_type": "stream",
          "text": [
            "code: 9999\n",
            ".....-----.....-----.....-----.....-----.....-----.....-----.....-----.....-----\n",
            "Ha entrado a la interfaz de administrador\n",
            "Puede realizar las siguientes tareas, typeando:\n",
            "A: añadir un code\n",
            "B: eliminar un code\n",
            "C: para ver la lista de codes\n",
            "D: para salir del interfaz\n",
            ".....-----.....-----.....-----.....-----.....-----.....-----.....-----.....-----\n",
            "comando: C\n",
            "['3465', '9765']\n",
            "comando: B\n",
            "la lista de códigos son...\n",
            "['3465', '9765']\n",
            "ingrese el código a eliminar...\n",
            "code: 3465\n",
            "['9765']\n",
            "comando: D\n",
            "code: 3325\n",
            "code: 3252\n",
            "code: 6843\n"
          ]
        }
      ]
    },
    {
      "cell_type": "code",
      "source": [
        "admin_interface()"
      ],
      "metadata": {
        "colab": {
          "base_uri": "https://localhost:8080/"
        },
        "id": "SnRZacuUkoXS",
        "outputId": "0a465815-3fe6-4b81-fb10-40081cab42ef"
      },
      "execution_count": 89,
      "outputs": [
        {
          "name": "stdout",
          "output_type": "stream",
          "text": [
            ".....-----.....-----.....-----.....-----.....-----.....-----.....-----.....-----\n",
            "Ha entrado a la interfaz de administrador\n",
            "Puede realizar las siguientes tareas, typeando:\n",
            "A: añadir un code\n",
            "B: eliminar un code\n",
            "C: para ver la lista de codes\n",
            "D: para salir del interfaz\n",
            ".....-----.....-----.....-----.....-----.....-----.....-----.....-----.....-----\n",
            "comando: D\n"
          ]
        }
      ]
    },
    {
      "cell_type": "code",
      "source": [
        "def main():\n",
        "  while True:\n",
        "    code = str(input(\"code: \"))\n",
        "    if code in otp_list:\n",
        "      print(\"permiso aprobado\")\n",
        "      otp_list.remove(code)\n",
        "    else:\n",
        "      ##########################################################################################\n",
        "      if code == code_key:\n",
        "        admin_interface()"
      ],
      "metadata": {
        "id": "gKDQIyu1dYSt"
      },
      "execution_count": 91,
      "outputs": []
    }
  ]
}