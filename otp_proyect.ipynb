{
  "nbformat": 4,
  "nbformat_minor": 0,
  "metadata": {
    "colab": {
      "name": "otp_proyect.ipynb",
      "provenance": [],
      "authorship_tag": "ABX9TyMh82bbfvo5rZojZpPfPsdc",
      "include_colab_link": true
    },
    "kernelspec": {
      "name": "python3",
      "display_name": "Python 3"
    },
    "language_info": {
      "name": "python"
    }
  },
  "cells": [
    {
      "cell_type": "markdown",
      "metadata": {
        "id": "view-in-github",
        "colab_type": "text"
      },
      "source": [
        "<a href=\"https://colab.research.google.com/github/DaseiN-461/DaseiN-461/blob/main/otp_proyect.ipynb\" target=\"_parent\"><img src=\"https://colab.research.google.com/assets/colab-badge.svg\" alt=\"Open In Colab\"/></a>"
      ]
    },
    {
      "cell_type": "code",
      "execution_count": 1,
      "metadata": {
        "id": "oPhvmVuAKALb"
      },
      "outputs": [],
      "source": [
        "otp_list = []"
      ]
    },
    {
      "cell_type": "code",
      "source": [
        "print(otp_list)"
      ],
      "metadata": {
        "id": "sgy88IjBKGli"
      },
      "execution_count": null,
      "outputs": []
    }
  ]
}